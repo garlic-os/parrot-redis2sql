{
 "cells": [
  {
   "cell_type": "code",
   "execution_count": 2,
   "metadata": {},
   "outputs": [],
   "source": [
    "from typing import Dict\n",
    "import sqlite3\n",
    "from redis import Redis\n",
    "from tqdm import tqdm\n",
    "import json\n",
    "from discord import Message\n",
    "\n",
    "import config\n",
    "from parrot.redis.avatar_manager import AvatarManager as RedisAvatarManager\n",
    "from parrot.redis.corpus_manager import CorpusManager as RedisCorpusManager\n",
    "from parrot.redis.redis_set import RedisSet\n",
    "from parrot.sqlite.corpus_manager import CorpusManager as SqliteCorpusManager\n"
   ]
  },
  {
   "cell_type": "code",
   "execution_count": 3,
   "metadata": {},
   "outputs": [
    {
     "name": "stdout",
     "output_type": "stream",
     "text": [
      "Logging into the Redis database...\n",
      "Connecting to the sqlite database...\n"
     ]
    }
   ],
   "source": [
    "print(\"Logging into the Redis database...\")\n",
    "redis = Redis(\n",
    "    host=config.REDIS_HOST,\n",
    "    port=config.REDIS_PORT,\n",
    "    password=config.REDIS_PASSWORD,\n",
    "    decode_responses=True,\n",
    ")\n",
    "\n",
    "print(\"Connecting to the sqlite database...\")\n",
    "con = sqlite3.connect(\"parrot.sqlite3\")\n",
    "# con.isolation_level = None  # autocommit mode"
   ]
  },
  {
   "cell_type": "code",
   "execution_count": 4,
   "metadata": {},
   "outputs": [
    {
     "name": "stdout",
     "output_type": "stream",
     "text": [
      "Instantiating data structures...\n"
     ]
    }
   ],
   "source": [
    "print(\"Instantiating data structures...\")\n",
    "redis_corpora = RedisCorpusManager(redis)\n",
    "sqlite_corpora = SqliteCorpusManager(con)\n",
    "redis_avatars = RedisAvatarManager(redis)\n",
    "redis_registered_users = RedisSet(redis, \"registered_users\")\n",
    "redis_learning_channels = RedisSet(redis, \"learning_channels\")\n",
    "redis_speaking_channels = RedisSet(redis, \"speaking_channels\")"
   ]
  },
  {
   "cell_type": "code",
   "execution_count": null,
   "metadata": {},
   "outputs": [],
   "source": [
    "print(\"Creating tables if they don't exist...\")\n",
    "con.executescript(\"\"\"\n",
    "    BEGIN;\n",
    "    CREATE TABLE IF NOT EXISTS users (\n",
    "        id                         INTEGER PRIMARY KEY,\n",
    "        is_registered              INTEGER NOT NULL DEFAULT 0,\n",
    "        original_avatar_url        TEXT,\n",
    "        modified_avatar_url        TEXT,\n",
    "        modified_avatar_message_id INTEGER\n",
    "    );\n",
    "\n",
    "    CREATE TABLE IF NOT EXISTS channels (\n",
    "        id             INTEGER PRIMARY KEY,\n",
    "        can_speak_here INTEGER NOT NULL DEFAULT 0,\n",
    "        can_learn_here INTEGER NOT NULL DEFAULT 0,\n",
    "        webhook_id     INTEGER\n",
    "    );\n",
    "\n",
    "    CREATE TABLE IF NOT EXISTS messages (\n",
    "        id        INTEGER PRIMARY KEY,\n",
    "        user_id   INTEGER NOT NULL REFERENCES users(id),\n",
    "        timestamp INTEGER NOT NULL,\n",
    "        content   TEXT    NOT NULL\n",
    "    );\n",
    "    COMMIT;\n",
    "\"\"\")"
   ]
  },
  {
   "cell_type": "code",
   "execution_count": null,
   "metadata": {},
   "outputs": [],
   "source": [
    "for user_id in tqdm(redis_registered_users, \"User registration\"):\n",
    "    con.execute(\"INSERT INTO users (id, is_registered) VALUES (?, ?)\", (user_id, 1))\n",
    "con.commit()"
   ]
  },
  {
   "cell_type": "code",
   "execution_count": 5,
   "metadata": {},
   "outputs": [
    {
     "name": "stdout",
     "output_type": "stream",
     "text": [
      "Collecting corpus keys... ✅ 227 keys\n"
     ]
    }
   ],
   "source": [
    "print(\"Collecting corpus keys...\", end=\"\")\n",
    "corpus_keys = redis.keys(\"corpus:*\")\n",
    "print(f\" ✅ {len(corpus_keys)} keys\")"
   ]
  },
  {
   "cell_type": "code",
   "execution_count": 6,
   "metadata": {},
   "outputs": [
    {
     "name": "stderr",
     "output_type": "stream",
     "text": [
      "Corpora: 100%|██████████| 227/227 [02:04<00:00,  1.83it/s]\n"
     ]
    }
   ],
   "source": [
    "for key in tqdm(corpus_keys, \"Corpora\"):\n",
    "    user_id = int(key.split(\":\")[1])\n",
    "    corpus: Dict[int, str] = redis.hgetall(key)\n",
    "    # Timestamp was not stored in the old database, but I want it in the new one\n",
    "    # so I'm just going to put 0 for now.\n",
    "    con.executemany(\"\"\"\n",
    "        INSERT OR IGNORE INTO messages (id, user_id, timestamp, content)\n",
    "        VALUES (?, ?, ?, ?)\"\"\",\n",
    "        [(int(message_id), user_id, 0, corpus[message_id]) for message_id in corpus]\n",
    "    )\n",
    "con.commit()"
   ]
  },
  {
   "cell_type": "markdown",
   "metadata": {},
   "source": []
  },
  {
   "cell_type": "code",
   "execution_count": 9,
   "metadata": {},
   "outputs": [
    {
     "name": "stderr",
     "output_type": "stream",
     "text": [
      "Avatars: 100%|██████████| 151/151 [00:00<00:00, 43178.34it/s]\n"
     ]
    }
   ],
   "source": [
    "for user_id, ledger in tqdm(redis.hgetall(\"avatars\").items(), \"Avatars\"):\n",
    "    user_id = int(user_id)\n",
    "    ledger = json.loads(ledger)\n",
    "    sql = \"\"\"\n",
    "        UPDATE users\n",
    "        SET original_avatar_url = ?,\n",
    "            modified_avatar_url = ?,\n",
    "            modified_avatar_message_id = ?\n",
    "        WHERE id = ?\n",
    "    \"\"\"\n",
    "    con.execute(sql, (\n",
    "        ledger[\"original_avatar_url\"],\n",
    "        ledger[\"modified_avatar_url\"],\n",
    "        ledger[\"source_message_id\"],\n",
    "        user_id\n",
    "    ))\n",
    "con.commit()"
   ]
  },
  {
   "cell_type": "code",
   "execution_count": 12,
   "metadata": {},
   "outputs": [
    {
     "name": "stderr",
     "output_type": "stream",
     "text": [
      "Speaking permissions: 100%|██████████| 12/12 [00:00<00:00, 3000.93it/s]\n"
     ]
    }
   ],
   "source": [
    "for channel_id in tqdm(redis_speaking_channels, \"Speaking permissions\"):\n",
    "    con.execute(\"\"\"\n",
    "        INSERT INTO channels (id, can_speak_here)\n",
    "        VALUES (?, ?)\n",
    "        ON CONFLICT (id) DO UPDATE\n",
    "        SET can_speak_here = EXCLUDED.can_speak_here\"\"\",\n",
    "        (channel_id, 1)\n",
    "    )\n",
    "con.commit()"
   ]
  },
  {
   "cell_type": "code",
   "execution_count": 13,
   "metadata": {},
   "outputs": [
    {
     "name": "stderr",
     "output_type": "stream",
     "text": [
      "Learning permissions: 100%|██████████| 4/4 [00:00<00:00, 3997.43it/s]\n"
     ]
    }
   ],
   "source": [
    "for channel_id in tqdm(redis_learning_channels, \"Learning permissions\"):\n",
    "    con.execute(\"\"\"\n",
    "        INSERT INTO channels (id, can_learn_here)\n",
    "        VALUES (?, ?)\n",
    "        ON CONFLICT (id) DO UPDATE\n",
    "        SET can_speak_here = EXCLUDED.can_learn_here\"\"\",\n",
    "        (channel_id, 1)\n",
    ")\n",
    "con.commit()"
   ]
  },
  {
   "cell_type": "code",
   "execution_count": null,
   "metadata": {},
   "outputs": [],
   "source": [
    "# webhooks are funny, because parrot doesn't actually store them; it just gets\n",
    "# each url on the fly by searching through the channel's list of webhooks on\n",
    "# discord. might be easier to poke at parrot while its live than to bring in all\n",
    "# the discord bot code here just to get at this data.\n",
    "\n",
    "# for channel_id in tqdm(redis_speaking_channels, \"Webhooks\"):\n",
    "#     ...\n",
    "# con.commit()"
   ]
  },
  {
   "cell_type": "code",
   "execution_count": 14,
   "metadata": {},
   "outputs": [],
   "source": [
    "con.commit()\n",
    "con.close()"
   ]
  }
 ],
 "metadata": {
  "kernelspec": {
   "display_name": "Python 3.10.4 64-bit",
   "language": "python",
   "name": "python3"
  },
  "language_info": {
   "codemirror_mode": {
    "name": "ipython",
    "version": 3
   },
   "file_extension": ".py",
   "mimetype": "text/x-python",
   "name": "python",
   "nbconvert_exporter": "python",
   "pygments_lexer": "ipython3",
   "version": "3.10.4"
  },
  "orig_nbformat": 4,
  "vscode": {
   "interpreter": {
    "hash": "26de051ba29f2982a8de78e945f0abaf191376122a1563185a90213a26c5da77"
   }
  }
 },
 "nbformat": 4,
 "nbformat_minor": 2
}
